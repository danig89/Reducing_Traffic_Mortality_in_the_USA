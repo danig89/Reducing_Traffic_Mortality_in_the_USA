{
 "cells": [
  {
   "cell_type": "markdown",
   "metadata": {},
   "source": [
    "# Reducing Traffic Mortality in the USA"
   ]
  },
  {
   "cell_type": "code",
   "execution_count": 14,
   "metadata": {},
   "outputs": [],
   "source": [
    "# Dependencies\n",
    "import pandas as pd"
   ]
  },
  {
   "cell_type": "markdown",
   "metadata": {},
   "source": [
    "## Data Overview"
   ]
  },
  {
   "cell_type": "code",
   "execution_count": 26,
   "metadata": {},
   "outputs": [
    {
     "name": "stdout",
     "output_type": "stream",
     "text": [
      "There are 51 rows and 5 columns.\n",
      "\n",
      "<class 'pandas.core.frame.DataFrame'>\n",
      "RangeIndex: 51 entries, 0 to 50\n",
      "Data columns (total 5 columns):\n",
      " #   Column                Non-Null Count  Dtype  \n",
      "---  ------                --------------  -----  \n",
      " 0   State                 51 non-null     object \n",
      " 1   drvr_fatl_col_bmiles  51 non-null     float64\n",
      " 2   perc_fatl_speed       51 non-null     int64  \n",
      " 3   perc_fatl_alcohol     51 non-null     int64  \n",
      " 4   perc_fatl_1st_time    51 non-null     int64  \n",
      "dtypes: float64(1), int64(3), object(1)\n",
      "memory usage: 2.1+ KB\n",
      "None\n"
     ]
    },
    {
     "data": {
      "text/html": [
       "<div>\n",
       "<style scoped>\n",
       "    .dataframe tbody tr th:only-of-type {\n",
       "        vertical-align: middle;\n",
       "    }\n",
       "\n",
       "    .dataframe tbody tr th {\n",
       "        vertical-align: top;\n",
       "    }\n",
       "\n",
       "    .dataframe thead th {\n",
       "        text-align: right;\n",
       "    }\n",
       "</style>\n",
       "<table border=\"1\" class=\"dataframe\">\n",
       "  <thead>\n",
       "    <tr style=\"text-align: right;\">\n",
       "      <th></th>\n",
       "      <th>State</th>\n",
       "      <th>drvr_fatl_col_bmiles</th>\n",
       "      <th>perc_fatl_speed</th>\n",
       "      <th>perc_fatl_alcohol</th>\n",
       "      <th>perc_fatl_1st_time</th>\n",
       "    </tr>\n",
       "  </thead>\n",
       "  <tbody>\n",
       "    <tr>\n",
       "      <th>46</th>\n",
       "      <td>Virginia</td>\n",
       "      <td>12.7</td>\n",
       "      <td>19</td>\n",
       "      <td>27</td>\n",
       "      <td>88</td>\n",
       "    </tr>\n",
       "    <tr>\n",
       "      <th>47</th>\n",
       "      <td>Washington</td>\n",
       "      <td>10.6</td>\n",
       "      <td>42</td>\n",
       "      <td>33</td>\n",
       "      <td>86</td>\n",
       "    </tr>\n",
       "    <tr>\n",
       "      <th>48</th>\n",
       "      <td>West Virginia</td>\n",
       "      <td>23.8</td>\n",
       "      <td>34</td>\n",
       "      <td>28</td>\n",
       "      <td>87</td>\n",
       "    </tr>\n",
       "    <tr>\n",
       "      <th>49</th>\n",
       "      <td>Wisconsin</td>\n",
       "      <td>13.8</td>\n",
       "      <td>36</td>\n",
       "      <td>33</td>\n",
       "      <td>84</td>\n",
       "    </tr>\n",
       "    <tr>\n",
       "      <th>50</th>\n",
       "      <td>Wyoming</td>\n",
       "      <td>17.4</td>\n",
       "      <td>42</td>\n",
       "      <td>32</td>\n",
       "      <td>90</td>\n",
       "    </tr>\n",
       "  </tbody>\n",
       "</table>\n",
       "</div>"
      ],
      "text/plain": [
       "            State  drvr_fatl_col_bmiles  perc_fatl_speed  perc_fatl_alcohol  \\\n",
       "46       Virginia                  12.7               19                 27   \n",
       "47     Washington                  10.6               42                 33   \n",
       "48  West Virginia                  23.8               34                 28   \n",
       "49      Wisconsin                  13.8               36                 33   \n",
       "50        Wyoming                  17.4               42                 32   \n",
       "\n",
       "    perc_fatl_1st_time  \n",
       "46                  88  \n",
       "47                  86  \n",
       "48                  87  \n",
       "49                  84  \n",
       "50                  90  "
      ]
     },
     "execution_count": 26,
     "metadata": {},
     "output_type": "execute_result"
    }
   ],
   "source": [
    "# Read in data file\n",
    "car_acc = pd.read_csv('Resources/bad-drivers.csv', comment='#')\n",
    "\n",
    "# Save the number of rows columns as a tuple\n",
    "rows_and_cols = car_acc.shape\n",
    "print('There are {} rows and {} columns.\\n'.format(\n",
    "    rows_and_cols[0], rows_and_cols[1]))\n",
    "\n",
    "# Generate an overview of the DataFrame\n",
    "car_acc_information = car_acc.info()\n",
    "print(car_acc_information)\n",
    "\n",
    "# Display the last five rows of the DataFrame\n",
    "car_acc.tail()"
   ]
  },
  {
   "cell_type": "markdown",
   "metadata": {},
   "source": [
    "## Summary Statistics"
   ]
  },
  {
   "cell_type": "code",
   "execution_count": 27,
   "metadata": {},
   "outputs": [
    {
     "name": "stdout",
     "output_type": "stream",
     "text": [
      "       drvr_fatl_col_bmiles  perc_fatl_speed  perc_fatl_alcohol  \\\n",
      "count             51.000000        51.000000          51.000000   \n",
      "mean              15.790196        31.725490          30.686275   \n",
      "std                4.122002         9.633438           5.132213   \n",
      "min                5.900000        13.000000          16.000000   \n",
      "25%               12.750000        23.000000          28.000000   \n",
      "50%               15.600000        34.000000          30.000000   \n",
      "75%               18.500000        38.000000          33.000000   \n",
      "max               23.900000        54.000000          44.000000   \n",
      "\n",
      "       perc_fatl_1st_time  \n",
      "count            51.00000  \n",
      "mean             88.72549  \n",
      "std               6.96011  \n",
      "min              76.00000  \n",
      "25%              83.50000  \n",
      "50%              88.00000  \n",
      "75%              95.00000  \n",
      "max             100.00000  \n"
     ]
    },
    {
     "data": {
      "text/plain": [
       "<seaborn.axisgrid.PairGrid at 0x115dd9b8ec8>"
      ]
     },
     "execution_count": 27,
     "metadata": {},
     "output_type": "execute_result"
    },
    {
     "data": {
      "image/png": "[encoded data removed]",
      "text/plain": [
       "<Figure size 720x720 with 20 Axes>"
      ]
     },
     "metadata": {
      "needs_background": "light"
     },
     "output_type": "display_data"
    }
   ],
   "source": [
    "# import seaborn and make plots appear inline\n",
    "import seaborn as sns\n",
    "%matplotlib inline\n",
    "\n",
    "# Compute the summary statistics of all columns in the DataFrame\n",
    "sum_stat_car = car_acc.describe()\n",
    "print(sum_stat_car)\n",
    "\n",
    "# Create a pairwise scatter plot to explore the data\n",
    "\n",
    "sns.pairplot(car_acc)"
   ]
  },
  {
   "cell_type": "markdown",
   "metadata": {},
   "source": [
    "## Quantify the Correlation between Variables"
   ]
  },
  {
   "cell_type": "code",
   "execution_count": 32,
   "metadata": {},
   "outputs": [
    {
     "data": {
      "text/html": [
       "<div>\n",
       "<style scoped>\n",
       "    .dataframe tbody tr th:only-of-type {\n",
       "        vertical-align: middle;\n",
       "    }\n",
       "\n",
       "    .dataframe tbody tr th {\n",
       "        vertical-align: top;\n",
       "    }\n",
       "\n",
       "    .dataframe thead th {\n",
       "        text-align: right;\n",
       "    }\n",
       "</style>\n",
       "<table border=\"1\" class=\"dataframe\">\n",
       "  <thead>\n",
       "    <tr style=\"text-align: right;\">\n",
       "      <th></th>\n",
       "      <th>drvr_fatl_col_bmiles</th>\n",
       "      <th>perc_fatl_speed</th>\n",
       "      <th>perc_fatl_alcohol</th>\n",
       "      <th>perc_fatl_1st_time</th>\n",
       "    </tr>\n",
       "  </thead>\n",
       "  <tbody>\n",
       "    <tr>\n",
       "      <th>drvr_fatl_col_bmiles</th>\n",
       "      <td>1.000000</td>\n",
       "      <td>-0.029080</td>\n",
       "      <td>0.199426</td>\n",
       "      <td>-0.017942</td>\n",
       "    </tr>\n",
       "    <tr>\n",
       "      <th>perc_fatl_speed</th>\n",
       "      <td>-0.029080</td>\n",
       "      <td>1.000000</td>\n",
       "      <td>0.286244</td>\n",
       "      <td>0.014066</td>\n",
       "    </tr>\n",
       "    <tr>\n",
       "      <th>perc_fatl_alcohol</th>\n",
       "      <td>0.199426</td>\n",
       "      <td>0.286244</td>\n",
       "      <td>1.000000</td>\n",
       "      <td>-0.245455</td>\n",
       "    </tr>\n",
       "    <tr>\n",
       "      <th>perc_fatl_1st_time</th>\n",
       "      <td>-0.017942</td>\n",
       "      <td>0.014066</td>\n",
       "      <td>-0.245455</td>\n",
       "      <td>1.000000</td>\n",
       "    </tr>\n",
       "  </tbody>\n",
       "</table>\n",
       "</div>"
      ],
      "text/plain": [
       "                      drvr_fatl_col_bmiles  perc_fatl_speed  \\\n",
       "drvr_fatl_col_bmiles              1.000000        -0.029080   \n",
       "perc_fatl_speed                  -0.029080         1.000000   \n",
       "perc_fatl_alcohol                 0.199426         0.286244   \n",
       "perc_fatl_1st_time               -0.017942         0.014066   \n",
       "\n",
       "                      perc_fatl_alcohol  perc_fatl_1st_time  \n",
       "drvr_fatl_col_bmiles           0.199426           -0.017942  \n",
       "perc_fatl_speed                0.286244            0.014066  \n",
       "perc_fatl_alcohol              1.000000           -0.245455  \n",
       "perc_fatl_1st_time            -0.245455            1.000000  "
      ]
     },
     "execution_count": 32,
     "metadata": {},
     "output_type": "execute_result"
    }
   ],
   "source": [
    "# Compute the correlation coefficent for all column pairs\n",
    "corr_columns = car_acc.corr()\n",
    "corr_columns"
   ]
  },
  {
   "cell_type": "markdown",
   "metadata": {},
   "source": [
    "## Linear Regression"
   ]
  },
  {
   "cell_type": "code",
   "execution_count": 33,
   "metadata": {},
   "outputs": [
    {
     "data": {
      "text/plain": [
       "array([-0.04180041,  0.19086404,  0.02473301])"
      ]
     },
     "execution_count": 33,
     "metadata": {},
     "output_type": "execute_result"
    }
   ],
   "source": [
    "# Import the linear model function from sklearn\n",
    "from sklearn import linear_model\n",
    "\n",
    "# Create the features and target DataFrames\n",
    "features = car_acc[[\"perc_fatl_speed\", \"perc_fatl_alcohol\", \"perc_fatl_1st_time\"]]\n",
    "target = car_acc['drvr_fatl_col_bmiles']\n",
    "\n",
    "# Create a linear regression object\n",
    "reg = linear_model.LinearRegression()\n",
    "\n",
    "# Fit a multivariate linear regression model\n",
    "reg.fit(features, target)\n",
    "\n",
    "# Retrieve the regression coefficients\n",
    "fit_coef = reg.coef_\n",
    "fit_coef"
   ]
  },
  {
   "cell_type": "code",
   "execution_count": null,
   "metadata": {},
   "outputs": [],
   "source": []
  }
 ],
 "metadata": {
  "kernelspec": {
   "display_name": "PythonData",
   "language": "python",
   "name": "pythondata"
  },
  "language_info": {
   "codemirror_mode": {
    "name": "ipython",
    "version": 3
   },
   "file_extension": ".py",
   "mimetype": "text/x-python",
   "name": "python",
   "nbconvert_exporter": "python",
   "pygments_lexer": "ipython3",
   "version": "3.7.6"
  }
 },
 "nbformat": 4,
 "nbformat_minor": 4
}
